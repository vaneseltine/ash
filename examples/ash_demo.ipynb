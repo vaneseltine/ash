{
  "nbformat": 4,
  "nbformat_minor": 0,
  "metadata": {
    "colab": {
      "provenance": []
    },
    "kernelspec": {
      "name": "python3",
      "display_name": "Python 3"
    },
    "language_info": {
      "name": "python"
    }
  },
  "cells": [
    {
      "cell_type": "markdown",
      "source": [
        "# Ash"
      ],
      "metadata": {
        "id": "itusgjjN3yTm"
      }
    },
    {
      "cell_type": "markdown",
      "source": [
        "## Install and import packages"
      ],
      "metadata": {
        "id": "9Qol0-uo325f"
      }
    },
    {
      "cell_type": "code",
      "execution_count": 8,
      "metadata": {
        "colab": {
          "base_uri": "https://localhost:8080/"
        },
        "id": "zVo1Cy04uQ88",
        "outputId": "f5da3234-fc0b-47fa-b8fc-84213767e994"
      },
      "outputs": [
        {
          "output_type": "stream",
          "name": "stdout",
          "text": [
            "Requirement already satisfied: ash-williams in /usr/local/lib/python3.10/dist-packages (0.9.2)\n",
            "Requirement already satisfied: urllib3 in /usr/local/lib/python3.10/dist-packages (2.2.2)\n",
            "Requirement already satisfied: filetype>=1.2.0 in /usr/local/lib/python3.10/dist-packages (from ash-williams) (1.2.0)\n",
            "Requirement already satisfied: pypdf>=4.2.0 in /usr/local/lib/python3.10/dist-packages (from ash-williams) (4.2.0)\n",
            "Requirement already satisfied: striprtf>=0.0.26 in /usr/local/lib/python3.10/dist-packages (from ash-williams) (0.0.26)\n",
            "Requirement already satisfied: typing_extensions>=4.0 in /usr/local/lib/python3.10/dist-packages (from pypdf>=4.2.0->ash-williams) (4.12.2)\n"
          ]
        }
      ],
      "source": [
        "!pip install ash-williams urllib3"
      ]
    },
    {
      "cell_type": "code",
      "source": [
        "from pathlib import Path\n",
        "from pprint import pprint\n",
        "\n",
        "import ash\n",
        "import urllib3"
      ],
      "metadata": {
        "id": "lwOC1OOnupN8"
      },
      "execution_count": 20,
      "outputs": []
    },
    {
      "cell_type": "markdown",
      "source": [
        "## Load retraction database"
      ],
      "metadata": {
        "id": "b48pTaXP3stu"
      }
    },
    {
      "cell_type": "code",
      "source": [
        "DB_PATH = Path(\"./retractions.csv\")"
      ],
      "metadata": {
        "id": "UGjy07Fp3ZOi"
      },
      "execution_count": 56,
      "outputs": []
    },
    {
      "cell_type": "markdown",
      "source": [
        "The following should download the complete Retraction Watch CSV, per instructions at https://doi.org/10.13003/c23rw1d9. If this doesn't work, try manually downloading from the provided URL -- with your own email at the end -- and then uploading to the file system accessible by this notebook. Alternatively, you might try [mounting a Drive or Sheet](https://colab.research.google.com/notebooks/io.ipynb)."
      ],
      "metadata": {
        "id": "VIno-RCm00_G"
      }
    },
    {
      "cell_type": "code",
      "source": [
        "# Enter your email address for download, per Crossref request\n",
        "EMAIL = \n",
        "CSV_URL = f\"https://api.labs.crossref.org/data/retractionwatch?{EMAIL}\""
      ],
      "metadata": {
        "id": "V05HYR1euf8w"
      },
      "execution_count": 40,
      "outputs": []
    },
    {
      "cell_type": "code",
      "source": [
        "resp = urllib3.request(\"GET\", CSV_URL, timeout=20)\n",
        "print(f\"Status: {resp.status}\")\n",
        "if resp.status != 200:\n",
        "    raise RuntimeError(f\"Did not successfully retrieve {CSV_URL}\")\n",
        "DB_PATH.write_bytes(resp.data)\n",
        "db = ash.RetractionDatabase(DB_PATH)\n",
        "db"
      ],
      "metadata": {
        "colab": {
          "base_uri": "https://localhost:8080/"
        },
        "id": "wb90N1ylzPvy",
        "outputId": "91c5fe53-0b0f-4514-eb89-ccfc4cb8d6a3"
      },
      "execution_count": 57,
      "outputs": [
        {
          "output_type": "stream",
          "name": "stdout",
          "text": [
            "Status: 200\n"
          ]
        },
        {
          "output_type": "execute_result",
          "data": {
            "text/plain": [
              "RetractionDatabase('retractions.csv')"
            ]
          },
          "metadata": {},
          "execution_count": 57
        }
      ]
    },
    {
      "cell_type": "code",
      "source": [
        "len(db.dois)"
      ],
      "metadata": {
        "colab": {
          "base_uri": "https://localhost:8080/"
        },
        "id": "GpvN82Ely6G7",
        "outputId": "8fc09363-1a2a-408b-95ec-6537153337b2"
      },
      "execution_count": 54,
      "outputs": [
        {
          "output_type": "execute_result",
          "data": {
            "text/plain": [
              "45590"
            ]
          },
          "metadata": {},
          "execution_count": 54
        }
      ]
    },
    {
      "cell_type": "markdown",
      "source": [
        "## Report on text containing DOIs"
      ],
      "metadata": {
        "id": "AJqI7HrH4HDn"
      }
    },
    {
      "cell_type": "code",
      "source": [
        "TEXT = \"\"\"\n",
        "References\n",
        "1. Teixeira da Silva JA, Dobránszki J. Highly cited retracted papers. Scientometrics.\n",
        "2017 Mar;110(3):1653–61. doi: 10.1007/s11192-016-2227-4\n",
        "2. Barbour V, Kleinert S, Wager E, Yentis S. Guidelines for retracting articles.\n",
        "Committee on Publication Ethics; 2009 Sep. doi: 10.24318/cope.2019.1.4\n",
        "3. Budd JM, Sievert M, Schultz TR. Phenomena of Retraction: Reasons for Retraction\n",
        "and Citations to the Publications. JAMA. 1998 Jul 15;280(3):296. doi:\n",
        "10.1001/jama.280.3.296\n",
        "4. Lu SF, Jin GZ, Uzzi B, Jones B. The Retraction Penalty: Evidence from the Web of\n",
        "Science. Sci Rep. 2013 Dec;3(1):3146. doi: 10.1038/srep03146\n",
        "5. Azoulay P, Bonatti A, Krieger JL. The career effects of scandal: Evidence from\n",
        "scientific retractions. Res Policy. 2017 Nov;46(9):1552–69. doi:\n",
        "10.1016/j.respol.2017.07.003\n",
        "6. Mongeon P, Larivière V. Costly collaborations: The impact of scientific fraud on co-\n",
        "authors’ careers: Costly Collaborations: The Impact of Scientific Fraud on Co-\n",
        "Authors’ Careers. J Assoc Inf Sci Technol. 2016 Mar;67(3):535–42. doi:\n",
        "10.1002/asi.23421\n",
        "7. Shuai X, Rollins J, Moulinier I, Custis T, Edmunds M, Schilder F. A\n",
        "Multidimensional Investigation of the Effects of Publication Retraction on Scholarly\n",
        "Impact. J Assoc Inf Sci Technol. 2017 Sep;68(9):2225–36. doi: 10.1002/asi.23826\n",
        "8. Feng L, Yuan J, Yang L. An observation framework for retracted publications in\n",
        "multiple dimensions. Scientometrics. 2020 Nov;125(2):1445–57. doi:\n",
        "10.1007/s11192-020-03702-3\n",
        "9. Bolland MJ, Grey A, Avenell A. Citation of retracted publications: A challenging\n",
        "problem. Account Res. 2021 Feb 15;1–8. doi: 10.1080/08989621.2021.1886933\n",
        "10. Bar-Ilan J, Halevi G. Post retraction citations in context: a case study. Scientometrics.\n",
        "2017 Oct;113(1):547–65. doi: 10.1007/s11192-017-2242-0\n",
        "11. Jan R, Bano S, Mehraj M, others. Context Analysis of Top Seven Retracted Articles:\n",
        "Should Retraction Watch Revisit the List? Context [Internet]. 2018; Available from:\n",
        "https://digitalcommons.unl.edu/libphilprac/2016/\n",
        "12. Chen C, Leydesdorff L. Patterns of connections and movements in dual-map\n",
        "overlays: A new method of publication portfolio analysis. J Assoc Inf Sci Technol.\n",
        "2014 Feb;65(2):334–51. doi: 10.1002/asi.22968\n",
        "13. Schneider J, Ye D, Hill AM, Whitehorn AS. Continued post-retraction citation of a\n",
        "fraudulent clinical trial report, 11 years after it was retracted for falsifying data.\n",
        "Scientometrics. 2020 Dec;125(3):2877–913. doi: 10.1007/s11192-020-03631-1\n",
        "14. Wakefield A, Murch S, Anthony A, Linnell J, Casson D, Malik M, et al.\n",
        "RETRACTED: Ileal-lymphoid-nodular hyperplasia, non-specific colitis, and\n",
        "pervasive developmental disorder in children. The Lancet. 1998 Feb;351(9103):637–\n",
        "41. doi: 10.1016/S0140-6736(97)11096-0\n",
        "15. Heibi I, Peroni S, Shotton D. Software review: COCI, the OpenCitations Index of\n",
        "Crossref open DOI-to-DOI citations. Scientometrics. 2019 Nov;121(2):1213–28. doi:\n",
        "10.1007/s11192-019-03217-6\n",
        "16. Suppe F. The structure of a scientific paper. Philos Sci. 1998;65(3):381–405.\n",
        "17. Peroni S, Shotton D. FaBiO and CiTO: Ontologies for describing bibliographic\n",
        "resources and citations. J Web Semant. 2012 Dec;17:33–43. doi:\n",
        "10.1016/j.websem.2012.08.001\n",
        "18. Bengfort B, Bilbro R, Ojeda T. Applied text analysis with Python: enabling language-\n",
        "aware data products with machine learning. First edition. Sebastopol, CA: O’Reilly\n",
        "Media, Inc; 2018. 310 p.\n",
        "19. Truica C-O, Radulescu F, Boicea A. Comparing Different Term Weighting Schemas\n",
        "for Topic Modeling. In: 2016 18th International Symposium on Symbolic and\n",
        "Numeric Algorithms for Scientific Computing (SYNASC) [Internet]. Timisoara,\n",
        "Romania: IEEE; 2016 [cited 2020 Jul 21]. p. 307–10. doi:\n",
        "10.1109/SYNASC.2016.055\n",
        "20. Jelodar H, Wang Y, Yuan C, Feng X, Jiang X, Li Y, et al. Latent Dirichlet allocation\n",
        "(LDA) and topic modeling: models, applications, a survey. Multimed Tools Appl.\n",
        "2019 Jun;78(11):15169–211. doi: 10.1007/s11042-018-6894-4\n",
        "21. Zhao W, Chen JJ, Perkins R, Liu Z, Ge W, Ding Y, et al. A heuristic approach to\n",
        "determine an appropriate number of topics in topic modeling. BMC Bioinformatics.\n",
        "2015 Dec;16(S13):S8. doi: 10.1186/1471-2105-16-S13-S8\n",
        "22. Arun R, Suresh V, Veni Madhavan CE, Narasimha Murthy MN. On Finding the\n",
        "Natural Number of Topics with Latent Dirichlet Allocation: Some Observations. In:\n",
        "Zaki MJ, Yu JX, Ravindran B, Pudi V, editors. Advances in Knowledge Discovery\n",
        "and Data Mining [Internet]. Berlin, Heidelberg: Springer Berlin Heidelberg; 2010\n",
        "[cited 2021 Jan 12]. p. 391–402. (Hutchison D, Kanade T, Kittler J, Kleinberg JM,\n",
        "Mattern F, Mitchell JC, et al., editors. Lecture Notes in Computer Science; vol. 6118).\n",
        "doi: 10.1007/978-3-642-13657-3_43\n",
        "23. Schmiedel T, Müller O, vom Brocke J. Topic Modeling as a Strategy of Inquiry in\n",
        "Organizational Research: A Tutorial With an Application Example on Organizational\n",
        "Culture. Organ Res Methods. 2019 Oct;22(4):941–68. doi:\n",
        "10.1177/1094428118773858\n",
        "24. Ferri P, Heibi I, Pareschi L, Peroni S. MITAO: A User Friendly and Modular\n",
        "Software for Topic Modelling. PuntOorg Int J. 2020;5(2):135–49. doi:\n",
        "10.19245/25.05.pij.5.2.3\n",
        "25. Sievert C, Shirley KE. LDAvis: A method for visualizing and interpreting topics.\n",
        "2014 [cited 2020 Jul 27]; doi: 10.13140/2.1.1394.3043\n",
        "26. Chuang J, Manning CD, Heer J. Termite: visualization techniques for assessing\n",
        "textual topic models. In: Proceedings of the International Working Conference on\n",
        "Advanced Visual Interfaces - AVI ’12 [Internet]. Capri Island, Italy: ACM Press;\n",
        "2012 [cited 2020 May 21]. p. 74. doi: 10.1145/2254556.2254572\n",
        "27. Heibi I, Peroni S. A qualitative and quantitative citation analysis toward retracted\n",
        "articles: a case of study. ArXiv201211475 Cs [Internet]. 2020 Dec 21 [cited 2021 Jan\n",
        "24]; Available from: http://arxiv.org/abs/2012.11475\n",
        "28. Wang K, Shen Z, Huang C, Wu CH, Dong Y, Kanakia A. Microsoft academic graph:\n",
        "When experts are not enough. Quantitative Science Studies. 2020 Feb;1(1):396-413.\n",
        "doi: 10.1162/qss_a_00021\n",
        "29. Pentz E. CrossRef: a collaborative linking network. Issues in science and technology\n",
        "librarianship. 2001;10:F4CR5RBK. doi: 10.1162/qss_a_00022\n",
        "30. Peroni S, Shotton D. OpenCitations, an infrastructure organization for open\n",
        "scholarship. Quantitative Science Studies. 2020 Feb;1(1):428-44. doi:\n",
        "10.1162/qss_a_00023\n",
        "31. Ramos J. Using tf-idf to determine word relevance in document queries. In\n",
        "Proceedings of the first instructional conference on machine learning 2003 Dec 3\n",
        "(Vol. 242, No. 1, pp. 29-48).\n",
        "32. Brownlee J. A Gentle Introduction to the Bag-of-Words Model. 2017 Oct 09.\n",
        "Available from: https://machinelearningmastery.com/gentle-introduction-bag-words-\n",
        "model/\n",
        "33. Iorio AD, Nuzzolese AG, Peroni S. Towards the automatic identification of the nature\n",
        "of citations. SePublica. 2013. Available from: http://ceur-ws.org/Vol-994/paper-\n",
        "06.pdf\n",
        "34. Ciancarini P, Di Iorio A, Nuzzolese AG, Peroni S, Vitali F. Evaluating Citation\n",
        "Functions in CiTO: Cognitive Issues. In: Presutti V, d’Amato C, Gandon F, d’Aquin\n",
        "M, Staab S, Tordai A, editors. The Semantic Web: Trends and Challenges [Internet].\n",
        "Cham: Springer International Publishing; 2014 [cited 2021 May 7]. p. 580–94.\n",
        "(Hutchison D, Kanade T, Kittler J, Kleinberg JM, Kobsa A, Mattern F, et al., editors.\n",
        "Lecture Notes in Computer Science; vol. 8465). doi: 10.1007/978-3-319-07443-6_39\n",
        "35. Heibi I, Peroni S. LCC and Scimago indexes. Zenodo [Data set]. 2021. doi:\n",
        "10.5281/zenodo.4767023\n",
        "\"\"\"\n",
        "paper = ash.Paper(TEXT, mime_type=\"text/plain\")\n",
        "pprint(paper.report(db), width=120)\n"
      ],
      "metadata": {
        "colab": {
          "base_uri": "https://localhost:8080/"
        },
        "id": "sbcUJOoE4LtE",
        "outputId": "84f12e0c-1296-42f9-fe55-5674c7c9d6f5"
      },
      "execution_count": 69,
      "outputs": [
        {
          "output_type": "stream",
          "name": "stdout",
          "text": [
            "{'dois': {'10.1001/jama.280.3.296': {'DOI is valid': True, 'Retracted': False},\n",
            "          '10.1002/asi.22968': {'DOI is valid': True, 'Retracted': False},\n",
            "          '10.1002/asi.23421': {'DOI is valid': True, 'Retracted': False},\n",
            "          '10.1002/asi.23826': {'DOI is valid': True, 'Retracted': False},\n",
            "          '10.1007/978-3-319-07443-6_39': {'DOI is valid': True, 'Retracted': False},\n",
            "          '10.1007/978-3-642-13657-3_43': {'DOI is valid': True, 'Retracted': False},\n",
            "          '10.1007/s11042-018-6894-4': {'DOI is valid': True, 'Retracted': False},\n",
            "          '10.1007/s11192-016-2227-4': {'DOI is valid': True, 'Retracted': False},\n",
            "          '10.1007/s11192-017-2242-0': {'DOI is valid': True, 'Retracted': False},\n",
            "          '10.1007/s11192-019-03217-6': {'DOI is valid': True, 'Retracted': False},\n",
            "          '10.1007/s11192-020-03631-1': {'DOI is valid': True, 'Retracted': False},\n",
            "          '10.1007/s11192-020-03702-3': {'DOI is valid': True, 'Retracted': False},\n",
            "          '10.1016/S0140-6736(97)11096-0': {'DOI is valid': True, 'Retracted': True},\n",
            "          '10.1016/j.respol.2017.07.003': {'DOI is valid': True, 'Retracted': False},\n",
            "          '10.1016/j.websem.2012.08.001': {'DOI is valid': True, 'Retracted': False},\n",
            "          '10.1038/srep03146': {'DOI is valid': True, 'Retracted': False},\n",
            "          '10.1080/08989621.2021.1886933': {'DOI is valid': True, 'Retracted': False},\n",
            "          '10.1109/SYNASC.2016.055': {'DOI is valid': True, 'Retracted': False},\n",
            "          '10.1145/2254556.2254572': {'DOI is valid': True, 'Retracted': False},\n",
            "          '10.1162/qss_a_00021': {'DOI is valid': True, 'Retracted': False},\n",
            "          '10.1162/qss_a_00022': {'DOI is valid': True, 'Retracted': False},\n",
            "          '10.1162/qss_a_00023': {'DOI is valid': True, 'Retracted': False},\n",
            "          '10.1177/1094428118773858': {'DOI is valid': True, 'Retracted': False},\n",
            "          '10.1186/1471-2105-16-S13-S8': {'DOI is valid': True, 'Retracted': False},\n",
            "          '10.13140/2.1.1394.3043': {'DOI is valid': True, 'Retracted': False},\n",
            "          '10.19245/25.05.pij.5.2.3': {'DOI is valid': True, 'Retracted': False},\n",
            "          '10.24318/cope.2019.1.4': {'DOI is valid': True, 'Retracted': False},\n",
            "          '10.5281/zenodo.4767023': {'DOI is valid': True, 'Retracted': False}},\n",
            " 'zombies': [{'Date': '3/6/2004 0:00',\n",
            "              'Item': 'Correction',\n",
            "              'Notice DOI': 'https://doi.org/10.1016/S0140-6736(04)15715-2',\n",
            "              'Zombie': '10.1016/S0140-6736(97)11096-0'},\n",
            "             {'Date': '2/6/2010 0:00',\n",
            "              'Item': 'Retraction',\n",
            "              'Notice DOI': 'https://doi.org/10.1016/S0140-6736(10)60175-4',\n",
            "              'Zombie': '10.1016/S0140-6736(97)11096-0'}]}\n"
          ]
        }
      ]
    },
    {
      "cell_type": "code",
      "source": [],
      "metadata": {
        "id": "vZJCmGcL7GNs"
      },
      "execution_count": null,
      "outputs": []
    }
  ]
}
